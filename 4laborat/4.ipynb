import numpy as np
import matplotlib.pyplot as plt
x = np.arange(-10, 10)
y = 10 + x/4
print(f"""
Згенеровано значень: {x.size}
Значення по x: {x}
Значення по y: {y}
""")
plt.plot(x,y)
x = np.linspace(-10, 10, num=20)
y = x**2 + 2*x + 10
print(f"""
Згенеровано значень: {x.size}
Значення по x: {x}
Значення по y: {y}
""")

plt.xlabel("x")
plt.ylabel("y(x)")
plt.grid()
plt.plot(x,y)
plt.show()

Nsteps = 100
x = np.linspace(0, 1, num=Nsteps)
y_a = np.random.randn(Nsteps)
y_b = x**2 + 2*x + 0.1
y_c = x*3-0.3 # пряма

fig, ((ax1, ax2), (ax3, ax4)) = plt.subplots(2, 2, sharex=True, sharey=True)

ax1.plot(x, y_a, label="Random line")
ax2.fill_between(x, y_b, y_a, label="Y_a < Y < Y_b")

ax3.fill_between(x, y_a, -3, label="Y > -3")
ax4.fill_between(x, y_a, 3, label="Y < 3")

for ax in ax1, ax2, ax3, ax4:
    ax.grid(True)
    ax.label_outer()
    ax.legend()

# print(f"""
# x = {x}, 
# y_a = {y_a}
# y_b = {y_b}
# """)

print(f"""
Маючи такі графіки можна видіти область потенційних розвязків системи рівнянь.
Найкраще це показано на графіку АХ2 де ми маємо область обемежену параболою зверху та кривою знизу.
""")

#np.random.seed(1)


t = np.arange(Nsteps)

mu = 0.001
sigma = 0.01

# the steps and position
S = mu + sigma*np.random.randn(Nsteps)
X = S.cumsum()

lower_bound = mu*t - sigma*np.sqrt(t)
upper_bound = mu*t + sigma*np.sqrt(t)

fig, (ax1, ax2) = plt.subplots(1, 2, sharey=False)
fig.tight_layout()
# будуємо криву, та робимо її чорного кольору 'k' та задаємо її ширину 2
ax1.plot(t, X, color='k', lw=2, label='walker position')
ax1.plot(t, mu*t, lw=1, label='population mean', color='m', ls='--')
ax1.fill_between(t, lower_bound, upper_bound, facecolor='C0', alpha=0.4, label='1 sigma range')

ax1.fill_between(t, upper_bound, X, where=X > upper_bound, fc='red', alpha=0.4)
ax1.fill_between(t, lower_bound, X, where=X < lower_bound, fc='red', alpha=0.4)
ax1.set_title('Завдання з прикладу')

ax2.plot(x, y_a, color='k', lw=0.5, label='крива')
ax2.plot(x, y_b, lw=1, label='парабола', color='m', ls='--')
ax2.plot(x, y_c, lw=1, label='пряма', color='c', ls='--')
#ax2.fill_between(x, y_a, y_b, where=y_a < y_b, fc='red', alpha=0.4)
#ax2.fill_between(x, y_a, y_c, where=y_c > y_a, fc='red', alpha=0.4)
ax2.fill_between(x, y_b, y_c, where=y_c < y_b, fc='red', alpha=0.4)

ax2.set_title('Модифікований приклад')

for ax in ax1, ax2:
    ax.set_xlabel('кроки')
    ax.set_ylabel('значення')
    ax.grid()
    ax.legend(loc='upper left')
